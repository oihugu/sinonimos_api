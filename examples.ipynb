{
  "nbformat": 4,
  "nbformat_minor": 0,
  "metadata": {
    "colab": {
      "name": "sininimos_api.ipynb",
      "provenance": [],
      "collapsed_sections": []
    },
    "kernelspec": {
      "name": "python3",
      "display_name": "Python 3"
    },
    "language_info": {
      "name": "python"
    }
  },
  "cells": [
    {
      "cell_type": "code",
      "metadata": {
        "id": "6jRPaOYXkF4A"
      },
      "source": [
        "import requests as r\n",
        "from bs4 import BeautifulSoup\n",
        "\n",
        "\n",
        "def sinonimos(palavra):\n",
        "  site = f'https://www.sinonimos.com.br/{palavra}/'\n",
        "  content = r.get(site)\n",
        "  soup = BeautifulSoup(content.text, \"html.parser\")\n",
        "  sentidos = soup.find_all(\"div\", {'class':'s-wrapper'})\n",
        "  resposta = {}\n",
        "\n",
        "  for sentido in sentidos:\n",
        "    texto_setido = sentido.find_all(\"div\", {'class':'sentido'})\n",
        "    resposta[texto_setido[0].text.replace(':', '')] = [a.text for a in sentido.find_all(\"a\", {'class':'sinonimo'})]\n",
        "\n",
        "  return resposta"
      ],
      "execution_count": 55,
      "outputs": []
    },
    {
      "cell_type": "code",
      "metadata": {
        "colab": {
          "base_uri": "https://localhost:8080/"
        },
        "id": "bWFsnYxXkiYL",
        "outputId": "58e6421b-1f50-49f6-cb30-a1480341bac5"
      },
      "source": [
        "sinonimos('buscar')"
      ],
      "execution_count": 56,
      "outputs": [
        {
          "output_type": "execute_result",
          "data": {
            "text/plain": [
              "{'Apanhar algo ou alguém, levando ou trazendo': ['apanhar',\n",
              "  'pegar',\n",
              "  'colher',\n",
              "  'levar',\n",
              "  'trazer',\n",
              "  'transportar'],\n",
              " 'Conseguir ou tentar conseguir': ['conseguir',\n",
              "  'obter',\n",
              "  'alcançar',\n",
              "  'conquistar',\n",
              "  'arranjar',\n",
              "  'adquirir',\n",
              "  'pedir',\n",
              "  'solicitar',\n",
              "  'requestar',\n",
              "  'apelar'],\n",
              " 'Dirigir-se para, indo ao encontro': ['dirigir-se',\n",
              "  'encaminhar-se',\n",
              "  'ir',\n",
              "  'orientar-se',\n",
              "  'destinar-se'],\n",
              " 'Esforçar-se para algo': ['esforçar-se',\n",
              "  'empenhar-se',\n",
              "  'pretender',\n",
              "  'tentar',\n",
              "  'intentar',\n",
              "  'perseguir',\n",
              "  'diligenciar',\n",
              "  'envidar'],\n",
              " 'Investigar de forma minuciosa': ['investigar',\n",
              "  'pesquisar',\n",
              "  'examinar',\n",
              "  'analisar',\n",
              "  'averiguar',\n",
              "  'esquadrinhar',\n",
              "  'explorar',\n",
              "  'perscrutar',\n",
              "  'sondar',\n",
              "  'apurar',\n",
              "  'indagar',\n",
              "  'inquirir',\n",
              "  'revistar'],\n",
              " 'Procurar na própria mente': ['imaginar',\n",
              "  'idear',\n",
              "  'idealizar',\n",
              "  'planejar',\n",
              "  'planear',\n",
              "  'arquitetar',\n",
              "  'fantasiar'],\n",
              " 'Procurar ou descobrir algo ou alguém': ['procurar',\n",
              "  'descobrir',\n",
              "  'catar',\n",
              "  'caçar',\n",
              "  'fuçar',\n",
              "  'rastrear'],\n",
              " 'Recorrer a si mesmo': ['recorrer', 'valer-se', 'acudir-se', 'utilizar-se']}"
            ]
          },
          "metadata": {
            "tags": []
          },
          "execution_count": 56
        }
      ]
    },
    {
      "cell_type": "code",
      "metadata": {
        "id": "raeYakWEkkYq"
      },
      "source": [
        ""
      ],
      "execution_count": 56,
      "outputs": []
    },
    {
      "cell_type": "code",
      "metadata": {
        "id": "nPTnGIlWlNwC"
      },
      "source": [
        ""
      ],
      "execution_count": null,
      "outputs": []
    }
  ]
}